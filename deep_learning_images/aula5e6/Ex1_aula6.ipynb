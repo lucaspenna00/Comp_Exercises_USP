{
 "cells": [
  {
   "cell_type": "markdown",
   "metadata": {},
   "source": [
    "# Exercício 1 Aula 6\n",
    "\n",
    "## Batch Normalization\n",
    "\n",
    "Durante o treino, batch normalization calcula a média μ B e desvio-padrão σ B do batch B. No caso de\n",
    "imagens, são calculadas média e desvio-padrão para cada banda de cor (ou para cada saída do fil-\n",
    "tro). Depois, normaliza-se o batch subtraindo μ B e dividindo por σ B +ε cada elemento de B, onde ε\n",
    "no denominador é um número pequeno para evitar divisão por zero. A saída do batch normalization\n",
    "é uma distribuição normal de média zero e desvio-padrão um. Nem sempre esta distribuição é ade-\n",
    "quada para alimentar a camada seguinte. Consequentemente, a saída de batch normalization é “des-\n",
    "normalizada” multiplicando por um parâmetro “desvio padrão” γ (inicializada com 1) e somando\n",
    "um parâmetro “média” β (inicializada com 0).\n",
    "\n",
    "\n",
    "$$B = (B - μ B ) / (σ B +ε)  γ + β$$\n",
    "\n",
    "Onde B são os elementos do batch. Os parâmetros ótimos γ e β são atualizados pela retro-propaga-\n",
    "ção.\n",
    "Durante a predição, são utilizadas média μ B , desvio σ B , γ e β calculados no treino para normalizar o\n",
    "batch. Porém, μ B e σ B são atualizados durante a predição, para se ajustar à estatística dos dados de\n",
    "teste:\n",
    "\n",
    "$$B = (B - moving_μ B ) / (moving_σ B +ε) * γ + β$$"
   ]
  },
  {
   "cell_type": "code",
   "execution_count": 14,
   "metadata": {},
   "outputs": [],
   "source": [
    "import keras\n",
    "from keras.datasets import cifar10\n",
    "from keras.models import Sequential\n",
    "from keras.layers import Dropout, Conv2D, MaxPooling2D, Dense, GlobalAveragePooling2D, Flatten, BatchNormalization\n",
    "from keras import optimizers\n",
    "import numpy as np"
   ]
  },
  {
   "cell_type": "code",
   "execution_count": 15,
   "metadata": {},
   "outputs": [],
   "source": [
    "batch_size = 100\n",
    "num_classes = 10\n",
    "epochs = 5"
   ]
  },
  {
   "cell_type": "code",
   "execution_count": 16,
   "metadata": {},
   "outputs": [],
   "source": [
    "nl, nc = 32,32\n",
    "(ax, ay), (qx, qy) = cifar10.load_data()"
   ]
  },
  {
   "cell_type": "code",
   "execution_count": 17,
   "metadata": {},
   "outputs": [],
   "source": [
    "ax = ax.reshape(ax.shape[0], nl, nc, 3)\n",
    "qx = qx.reshape(qx.shape[0], nl, nc, 3)\n",
    "input_shape = (nl, nc, 3)"
   ]
  },
  {
   "cell_type": "code",
   "execution_count": 18,
   "metadata": {},
   "outputs": [],
   "source": [
    "ax= ax.astype('float32')\n",
    "qx= qx.astype('float32')\n",
    "\n",
    "ax/= 255 #0 a 1\n",
    "qx/= 255 #0 a 1"
   ]
  },
  {
   "cell_type": "code",
   "execution_count": 19,
   "metadata": {},
   "outputs": [],
   "source": [
    "ay = keras.utils.to_categorical(ay, num_classes)\n",
    "qy = keras.utils.to_categorical(qy, num_classes)"
   ]
  },
  {
   "cell_type": "code",
   "execution_count": 20,
   "metadata": {},
   "outputs": [],
   "source": [
    "model = Sequential()\n",
    "\n",
    "# Added BatchNormalization no começo\n",
    "model.add(BatchNormalization(input_shape=input_shape))\n",
    "\n",
    "model.add(Conv2D(20, kernel_size=(3,3), activation='relu', padding='same', input_shape=input_shape))\n",
    "model.add(MaxPooling2D(pool_size=(2,2))) #16x16x20\n",
    "\n",
    "model.add(Conv2D(40, kernel_size=(3,3), activation='relu', padding='same'))\n",
    "model.add(MaxPooling2D(pool_size=(2,2))) #8x8x40\n",
    "\n",
    "model.add(Conv2D(80, kernel_size=(3,3), activation='relu', padding='same'))\n",
    "model.add(MaxPooling2D(pool_size=(2,2))) #4x4x80\n",
    "\n",
    "model.add(Conv2D(160, kernel_size=(3,3), activation='relu', padding='same')) #4x4x160\n",
    "\n",
    "model.add(Flatten())\n",
    "\n",
    "model.add(Dense(1000,activation='relu'))\n",
    "model.add(Dense(num_classes,activation='softmax'))"
   ]
  },
  {
   "cell_type": "code",
   "execution_count": 21,
   "metadata": {},
   "outputs": [
    {
     "name": "stdout",
     "output_type": "stream",
     "text": [
      "_________________________________________________________________\n",
      "Layer (type)                 Output Shape              Param #   \n",
      "=================================================================\n",
      "batch_normalization_1 (Batch (None, 32, 32, 3)         12        \n",
      "_________________________________________________________________\n",
      "conv2d_1 (Conv2D)            (None, 32, 32, 20)        560       \n",
      "_________________________________________________________________\n",
      "max_pooling2d_1 (MaxPooling2 (None, 16, 16, 20)        0         \n",
      "_________________________________________________________________\n",
      "conv2d_2 (Conv2D)            (None, 16, 16, 40)        7240      \n",
      "_________________________________________________________________\n",
      "max_pooling2d_2 (MaxPooling2 (None, 8, 8, 40)          0         \n",
      "_________________________________________________________________\n",
      "conv2d_3 (Conv2D)            (None, 8, 8, 80)          28880     \n",
      "_________________________________________________________________\n",
      "max_pooling2d_3 (MaxPooling2 (None, 4, 4, 80)          0         \n",
      "_________________________________________________________________\n",
      "conv2d_4 (Conv2D)            (None, 4, 4, 160)         115360    \n",
      "_________________________________________________________________\n",
      "flatten_1 (Flatten)          (None, 2560)              0         \n",
      "_________________________________________________________________\n",
      "dense_1 (Dense)              (None, 1000)              2561000   \n",
      "_________________________________________________________________\n",
      "dense_2 (Dense)              (None, 10)                10010     \n",
      "=================================================================\n",
      "Total params: 2,723,062\n",
      "Trainable params: 2,723,056\n",
      "Non-trainable params: 6\n",
      "_________________________________________________________________\n"
     ]
    }
   ],
   "source": [
    "from keras.utils import print_summary\n",
    "print_summary(model)"
   ]
  },
  {
   "cell_type": "code",
   "execution_count": 22,
   "metadata": {},
   "outputs": [],
   "source": [
    "opt=optimizers.Adam()\n",
    "\n",
    "model.compile(optimizer=opt,loss='categorical_crossentropy', metrics=['accuracy'])"
   ]
  },
  {
   "cell_type": "code",
   "execution_count": 23,
   "metadata": {},
   "outputs": [
    {
     "name": "stdout",
     "output_type": "stream",
     "text": [
      "[array([1., 1., 1.], dtype=float32), array([0., 0., 0.], dtype=float32), array([0., 0., 0.], dtype=float32), array([1., 1., 1.], dtype=float32)]\n"
     ]
    }
   ],
   "source": [
    "filters = model.get_layer(index=0).get_weights()\n",
    "print(filters)"
   ]
  },
  {
   "cell_type": "code",
   "execution_count": 24,
   "metadata": {},
   "outputs": [
    {
     "name": "stdout",
     "output_type": "stream",
     "text": [
      "Train on 50000 samples, validate on 10000 samples\n",
      "Epoch 1/5\n",
      " - 79s - loss: 1.3481 - acc: 0.5118 - val_loss: 1.1135 - val_acc: 0.6064\n",
      "Epoch 2/5\n",
      " - 79s - loss: 0.9209 - acc: 0.6746 - val_loss: 0.9343 - val_acc: 0.6750\n",
      "Epoch 3/5\n",
      " - 77s - loss: 0.7296 - acc: 0.7412 - val_loss: 0.7970 - val_acc: 0.7239\n",
      "Epoch 4/5\n",
      " - 80s - loss: 0.5918 - acc: 0.7906 - val_loss: 0.7857 - val_acc: 0.7336\n",
      "Epoch 5/5\n",
      " - 100s - loss: 0.4758 - acc: 0.8313 - val_loss: 0.8363 - val_acc: 0.7327\n"
     ]
    },
    {
     "data": {
      "text/plain": [
       "<keras.callbacks.History at 0x7fd6dc4d5590>"
      ]
     },
     "execution_count": 24,
     "metadata": {},
     "output_type": "execute_result"
    }
   ],
   "source": [
    "model.fit(ax, ay, batch_size=batch_size, epochs=epochs, verbose=2, validation_data=(qx, qy))"
   ]
  },
  {
   "cell_type": "code",
   "execution_count": 25,
   "metadata": {},
   "outputs": [
    {
     "name": "stdout",
     "output_type": "stream",
     "text": [
      "[array([1.0070899, 1.0843607, 1.0422177], dtype=float32), array([0.02914334, 0.05872931, 0.02690289], dtype=float32), array([0.4911057 , 0.48164928, 0.44525656], dtype=float32), array([0.06089546, 0.0591564 , 0.06806222], dtype=float32)]\n"
     ]
    }
   ],
   "source": [
    "filters = model.get_layer(index=0).get_weights()\n",
    "print(filters)"
   ]
  },
  {
   "cell_type": "markdown",
   "metadata": {},
   "source": [
    "Looking at the code : https://github.com/keras-team/keras/blob/master/keras/layers/normalization.py#L61-L72\n",
    "\n",
    "I think it should be [gamma, beta, mean , variance]\n",
    "\n",
    "<br>\n",
    "<br>\n",
    "\n",
    "$\\gamma = [1.0070899, 1.0843607, 1.0422177]$\n",
    "<br>\n",
    "<br>\n",
    "\n",
    "$\\beta = [0.02914334, 0.05872931, 0.02690289]$\n",
    "<br>\n",
    "<br>\n",
    "\n",
    "$\\mu = [0.4911057 , 0.48164928, 0.44525656]$\n",
    "<br>\n",
    "<br>\n",
    "\n",
    "$\\sigma = [0.06089546, 0.0591564 , 0.06806222]$\n",
    "\n",
    "Onde cada um dos três valores equivale ao gamma, beta, mu e sigma de cada uma das bandas"
   ]
  },
  {
   "cell_type": "code",
   "execution_count": 26,
   "metadata": {},
   "outputs": [
    {
     "name": "stdout",
     "output_type": "stream",
     "text": [
      "('Test loss:', 0.8363285460472107)\n",
      "('Test accuracy:', 0.7327)\n"
     ]
    }
   ],
   "source": [
    "score = model.evaluate(qx, qy, verbose=0)\n",
    "print('Test loss:', score[0])\n",
    "print('Test accuracy:', score[1])"
   ]
  }
 ],
 "metadata": {
  "kernelspec": {
   "display_name": "Python 3",
   "language": "python",
   "name": "python3"
  },
  "language_info": {
   "codemirror_mode": {
    "name": "ipython",
    "version": 2
   },
   "file_extension": ".py",
   "mimetype": "text/x-python",
   "name": "python",
   "nbconvert_exporter": "python",
   "pygments_lexer": "ipython2",
   "version": "2.7.15"
  }
 },
 "nbformat": 4,
 "nbformat_minor": 2
}
