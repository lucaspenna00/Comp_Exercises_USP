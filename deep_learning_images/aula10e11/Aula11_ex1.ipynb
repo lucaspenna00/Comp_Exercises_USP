{
 "cells": [
  {
   "cell_type": "markdown",
   "metadata": {},
   "source": [
    "# Aula 11 Transfer Learning\n",
    "\n",
    "## How to Ensemble Models in Keras"
   ]
  },
  {
   "cell_type": "code",
   "execution_count": 16,
   "metadata": {},
   "outputs": [],
   "source": [
    "import numpy as np;\n",
    "import keras\n",
    "import keras.backend as K;\n",
    "from keras import optimizers, callbacks, regularizers;\n",
    "from keras.regularizers import l2;\n",
    "from keras.models import Sequential, Model, load_model\n",
    "from keras.layers import Dropout, Conv2D, MaxPooling2D, Dense, Flatten;\n",
    "from keras.applications.resnet50 import ResNet50, preprocess_input, decode_predictions\n",
    "from keras.preprocessing import image\n",
    "import os"
   ]
  },
  {
   "cell_type": "code",
   "execution_count": 17,
   "metadata": {},
   "outputs": [],
   "source": [
    "def leCsv(nomeDir, nomeArq, nl=0, nc=0):\n",
    "    \n",
    " st=os.path.join(nomeDir,nomeArq);\n",
    " arq=open(st,\"rt\"); lines=arq.readlines(); arq.close();\n",
    " n=len(lines)\n",
    "\n",
    " linhas_separadas=[]\n",
    "    \n",
    " for linha in lines:\n",
    "    \n",
    "     linha=linha.strip('\\n'); linha=linha.split(';');\n",
    "     linhas_separadas.append(linha);\n",
    "    \n",
    " ay=np.empty((n),dtype='float32');\n",
    " ax=np.empty((n,nl,nc,3),dtype='float32');\n",
    "    \n",
    " for i in range(len(linhas_separadas)):\n",
    "    \n",
    "     if i%10==0: print(\"Lendo arquivo\",i,linha[0])\n",
    "     linha=linhas_separadas[i];\n",
    "     img_path=os.path.join(nomeDir,linha[0])\n",
    "     t = image.load_img(img_path, target_size=(nl,nc))\n",
    "     x = image.img_to_array(t)\n",
    "     x = np.expand_dims(x, axis=0)\n",
    "     ax[i] = preprocess_input(x)\n",
    "     ay[i] = np.float32(linha[1]); #0=m ou 1=f\n",
    " return ax, ay;"
   ]
  },
  {
   "cell_type": "code",
   "execution_count": 18,
   "metadata": {},
   "outputs": [
    {
     "name": "stdout",
     "output_type": "stream",
     "text": [
      "Lendo arquivo 0 078b.jpg\n",
      "Lendo arquivo 10 065b.jpg\n",
      "Lendo arquivo 20 026b.jpg\n",
      "Lendo arquivo 30 010b.jpg\n",
      "Lendo arquivo 40 174b.jpg\n",
      "Lendo arquivo 50 057b.jpg\n",
      "Lendo arquivo 60 028b.jpg\n",
      "Lendo arquivo 70 020b.jpg\n",
      "Lendo arquivo 80 166b.jpg\n",
      "Lendo arquivo 90 053b.jpg\n",
      "Lendo arquivo 100 097b.jpg\n",
      "Lendo arquivo 110 114b.jpg\n",
      "Lendo arquivo 120 163b.jpg\n",
      "Lendo arquivo 130 042b.jpg\n",
      "Lendo arquivo 140 104b.jpg\n",
      "Lendo arquivo 150 055b.jpg\n",
      "Lendo arquivo 160 149b.jpg\n",
      "Lendo arquivo 170 187b.jpg\n",
      "Lendo arquivo 180 158b.jpg\n",
      "Lendo arquivo 190 030b.jpg\n",
      "Lendo arquivo 0 199b.jpg\n",
      "Lendo arquivo 10 064b.jpg\n",
      "Lendo arquivo 20 087b.jpg\n",
      "Lendo arquivo 30 070b.jpg\n",
      "Lendo arquivo 40 162b.jpg\n",
      "Lendo arquivo 50 024b.jpg\n",
      "Lendo arquivo 60 197b.jpg\n",
      "Lendo arquivo 70 154b.jpg\n",
      "Lendo arquivo 80 132b.jpg\n",
      "Lendo arquivo 90 068b.jpg\n",
      "Lendo arquivo 0 098b.jpg\n",
      "Lendo arquivo 10 036b.jpg\n",
      "Lendo arquivo 20 127b.jpg\n",
      "Lendo arquivo 30 061b.jpg\n",
      "Lendo arquivo 40 151b.jpg\n",
      "Lendo arquivo 50 041b.jpg\n",
      "Lendo arquivo 60 043b.jpg\n",
      "Lendo arquivo 70 049b.jpg\n",
      "Lendo arquivo 80 175b.jpg\n",
      "Lendo arquivo 90 120b.jpg\n"
     ]
    }
   ],
   "source": [
    "num_classes=2; nl=224; nc=224\n",
    "diretorioBd=\"dados\"\n",
    "ax, ay = leCsv(diretorioBd,\"treino.csv\", nl=nl, nc=nc); #200 imagens\n",
    "qx, qy = leCsv(diretorioBd,\"teste.csv\", nl=nl, nc=nc); #100 imagens\n",
    "vx, vy = leCsv(diretorioBd,\"valida.csv\", nl=nl, nc=nc); #100 imagens\n",
    "ay = keras.utils.to_categorical(ay, num_classes)\n",
    "qy = keras.utils.to_categorical(qy, num_classes)\n",
    "vy = keras.utils.to_categorical(vy, num_classes)"
   ]
  },
  {
   "cell_type": "code",
   "execution_count": 19,
   "metadata": {},
   "outputs": [],
   "source": [
    "models = []\n",
    "\n",
    "for i in range(0, 6):\n",
    "    \n",
    "    models.append(load_model(\"resnet_transf\"+str(i)+\".h5\"))"
   ]
  },
  {
   "cell_type": "code",
   "execution_count": 20,
   "metadata": {},
   "outputs": [],
   "source": [
    "Y_preds=[]\n",
    "\n",
    "for model in models:\n",
    "    \n",
    "    Y_preds.append(model.predict(qx))"
   ]
  },
  {
   "cell_type": "code",
   "execution_count": 21,
   "metadata": {},
   "outputs": [],
   "source": [
    "ens_predictions = np.zeros([Y_preds[0].shape[0], Y_preds[0].shape[1]])\n",
    "\n",
    "for coluna in range(0, Y_preds[0].shape[1]):\n",
    "    \n",
    "    for linha in range(0, Y_preds[0].shape[0]):\n",
    "        \n",
    "        ens_predictions[linha][coluna] = np.mean([Y_preds[0][linha][coluna], Y_preds[1][linha][coluna], Y_preds[2][linha][coluna], Y_preds[3][linha][coluna], Y_preds[4][linha][coluna], Y_preds[5][linha][coluna]])\n",
    "        "
   ]
  },
  {
   "cell_type": "code",
   "execution_count": 22,
   "metadata": {},
   "outputs": [],
   "source": [
    "classif = []\n",
    "\n",
    "for linha in ens_predictions:\n",
    "    \n",
    "    classif.append(np.argmax(linha))"
   ]
  },
  {
   "cell_type": "code",
   "execution_count": 23,
   "metadata": {},
   "outputs": [],
   "source": [
    "from sklearn.metrics import accuracy_score"
   ]
  },
  {
   "cell_type": "code",
   "execution_count": 24,
   "metadata": {},
   "outputs": [
    {
     "name": "stdout",
     "output_type": "stream",
     "text": [
      "Acuracia de Teste:  0.94\n"
     ]
    }
   ],
   "source": [
    "print(\"Acuracia de Teste: \", accuracy_score(classif, qy[:,1]));"
   ]
  },
  {
   "cell_type": "code",
   "execution_count": 25,
   "metadata": {},
   "outputs": [],
   "source": [
    "Y_preds=[]\n",
    "\n",
    "for model in models:\n",
    "    \n",
    "    Y_preds.append(model.predict(vx))"
   ]
  },
  {
   "cell_type": "code",
   "execution_count": 26,
   "metadata": {},
   "outputs": [],
   "source": [
    "ens_predictions  = np.zeros([Y_preds[0].shape[0], Y_preds[0].shape[1]])\n",
    "\n",
    "for coluna in range(0, Y_preds[0].shape[1]):\n",
    "    \n",
    "    for linha in range(0, Y_preds[0].shape[0]):\n",
    "        \n",
    "        ens_predictions[linha][coluna] = np.mean([Y_preds[0][linha][coluna], Y_preds[1][linha][coluna], Y_preds[2][linha][coluna], Y_preds[3][linha][coluna], Y_preds[4][linha][coluna], Y_preds[5][linha][coluna]])\n",
    "        "
   ]
  },
  {
   "cell_type": "code",
   "execution_count": 27,
   "metadata": {},
   "outputs": [],
   "source": [
    "classif = []\n",
    "\n",
    "for linha in ens_predictions:\n",
    "    \n",
    "    classif.append(np.argmax(linha))"
   ]
  },
  {
   "cell_type": "code",
   "execution_count": 28,
   "metadata": {},
   "outputs": [],
   "source": [
    "from sklearn.metrics import accuracy_score"
   ]
  },
  {
   "cell_type": "code",
   "execution_count": 29,
   "metadata": {},
   "outputs": [
    {
     "name": "stdout",
     "output_type": "stream",
     "text": [
      "Acuracia de Validação:  0.95\n"
     ]
    }
   ],
   "source": [
    "print(\"Acuracia de Validação: \", accuracy_score(classif, vy[:,1]))"
   ]
  }
 ],
 "metadata": {
  "kernelspec": {
   "display_name": "Python 3",
   "language": "python",
   "name": "python3"
  },
  "language_info": {
   "codemirror_mode": {
    "name": "ipython",
    "version": 3
   },
   "file_extension": ".py",
   "mimetype": "text/x-python",
   "name": "python",
   "nbconvert_exporter": "python",
   "pygments_lexer": "ipython3",
   "version": "3.6.9"
  }
 },
 "nbformat": 4,
 "nbformat_minor": 2
}
