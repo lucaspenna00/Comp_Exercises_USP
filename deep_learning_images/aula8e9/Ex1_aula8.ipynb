{
 "cells": [
  {
   "cell_type": "code",
   "execution_count": 21,
   "metadata": {},
   "outputs": [],
   "source": [
    "import cv2;\n",
    "import numpy as np; np.random.seed(7);\n",
    "import os;\n",
    "import sys;\n",
    "import tensorflow.keras as keras\n",
    "import keras.backend as K;\n",
    "from keras.models import *\n",
    "from keras.layers import *\n",
    "from keras.optimizers import *\n",
    "from keras.callbacks import ModelCheckpoint, LearningRateScheduler\n",
    "from keras.preprocessing.image import ImageDataGenerator"
   ]
  },
  {
   "cell_type": "code",
   "execution_count": 22,
   "metadata": {},
   "outputs": [],
   "source": [
    "def unet(input_size = (128,128,1)):\n",
    "     inputs = Input(input_size) #128x128\n",
    "     conv2 = Conv2D(64, 3, activation = 'relu', padding = 'same' )(inputs)\n",
    "     b1 = BatchNormalization()(conv2)\n",
    "     conv2 = Conv2D(64, 3, activation = 'relu', padding = 'same' )(b1)\n",
    "     pool2 = MaxPooling2D(pool_size=(2, 2))(conv2) #64x64\n",
    "     conv3 = Conv2D(128, 3, activation = 'relu', padding = 'same' )(pool2)\n",
    "     b2 = BatchNormalization()(conv3)\n",
    "     conv3 = Conv2D(128, 3, activation = 'relu', padding = 'same' )(conv3)\n",
    "     pool3 = MaxPooling2D(pool_size=(2, 2))(conv3) #32x32\n",
    "     conv4 = Conv2D(256, 3, activation = 'relu', padding = 'same' )(pool3)\n",
    "     b3 = BatchNormalization()(conv4)\n",
    "     conv4 = Conv2D(256, 3, activation = 'relu', padding = 'same' )(b3)\n",
    "     drop4 = Dropout(0.5)(conv4) #32x32\n",
    "     pool4 = MaxPooling2D(pool_size=(2, 2))(drop4) #16x16\n",
    "     conv5 = Conv2D(512, 3, activation = 'relu', padding = 'same' )(pool4)\n",
    "     b4 = BatchNormalization()(conv5)\n",
    "     conv5 = Conv2D(512, 3, activation = 'relu', padding = 'same' )(b4)\n",
    "     drop5 = Dropout(0.5)(conv5) #16x16\n",
    "     up6 = Conv2D(256, 2, activation = 'relu', padding = 'same')(UpSampling2D(size = (2,2))(drop5)) #32x32\n",
    "     merge6 = concatenate([drop4,up6], axis = 3)#32x32\n",
    "     conv6 = Conv2D(256, 3, activation = 'relu', padding = 'same' )(merge6)\n",
    "     b5 = BatchNormalization()(conv6)\n",
    "     conv6 = Conv2D(256, 3, activation = 'relu', padding = 'same' )(b5)\n",
    "     up7 = Conv2D(128, 2, activation = 'relu', padding = 'same')(UpSampling2D(size = (2,2))(conv6)) #64x64\n",
    "        \n",
    "     merge7 = concatenate([conv3,up7], axis = 3)\n",
    "     conv7 = Conv2D(128, 3, activation = 'relu', padding = 'same' )(merge7)\n",
    "     b6 = BatchNormalization()(conv7)\n",
    "     conv7 = Conv2D(128, 3, activation = 'relu', padding = 'same' )(b6)\n",
    "     up8 = Conv2D(164, 2, activation = 'relu', padding = 'same')(UpSampling2D(size = (2,2))(conv7)) #128x128\n",
    "     merge8 = concatenate([conv2,up8], axis = 3)\n",
    "     conv8 = Conv2D(64, 3, activation = 'relu', padding = 'same' )(merge8)\n",
    "     b7 = BatchNormalization()(conv8)\n",
    "     conv8 = Conv2D(64, 3, activation = 'relu', padding = 'same' )(b7)\n",
    "     conv8 = Conv2D(2, 3, activation = 'relu', padding = 'same' )(conv8)\n",
    "     b8 = BatchNormalization()(conv8)\n",
    "     conv9 = Conv2D(1, 1, activation = 'sigmoid', padding = 'same', bias_initializer=keras.initializers.Constant(value=1.5))(b8)\n",
    "     model = Model(inputs = inputs, outputs = conv9)\n",
    "     model.compile(optimizer = Adam(lr = 1e-3),\n",
    "     loss = 'mean_squared_error', metrics = ['accuracy'])\n",
    "     model.summary()\n",
    "     return model"
   ]
  },
  {
   "cell_type": "code",
   "execution_count": 23,
   "metadata": {},
   "outputs": [],
   "source": [
    "nomeprog=\"membrane_unet\"\n",
    "train_path='/home/lucas/Desktop/poli/PSI3472/aula8e9/membrane/train/';\n",
    "outDir = \"/home/lucas/Desktop/poli/PSI3472/aula8e9/membrane_out\"; os.chdir(outDir)"
   ]
  },
  {
   "cell_type": "code",
   "execution_count": 24,
   "metadata": {},
   "outputs": [],
   "source": [
    "aug_dict = dict(rotation_range=10, #Int. Degree range for random rotations.\n",
    " width_shift_range=0.05, #float: fraction of total width, if < 1, or pixels if >= 1.\n",
    " height_shift_range=0.05, #float: fraction of total height, if < 1, or pixels if >= 1.\n",
    " shear_range=10, #Float. Shear Intensity (Shear angle in counter-clockwise direction in degrees)\n",
    " zoom_range=0.2, #Range for random zoom. If a float, [lower, upper] = [1-zoom_range, 1+zoom_range].\n",
    " horizontal_flip=False, #Boolean. Randomly flip inputs horizontally.\n",
    " fill_mode='reflect'); #One of {\"constant\", \"nearest\", \"reflect\" or \"wrap\"}."
   ]
  },
  {
   "cell_type": "code",
   "execution_count": 25,
   "metadata": {},
   "outputs": [],
   "source": [
    "image_folder='image';\n",
    "mask_folder= 'label';\n",
    "target_size = (128,128);\n",
    "batch_size=10;\n",
    "seed = 7;\n",
    "save_to_dir = None;"
   ]
  },
  {
   "cell_type": "code",
   "execution_count": 26,
   "metadata": {},
   "outputs": [],
   "source": [
    "image_datagen = ImageDataGenerator(**aug_dict);\n",
    "mask_datagen = ImageDataGenerator(**aug_dict);"
   ]
  },
  {
   "cell_type": "code",
   "execution_count": 27,
   "metadata": {},
   "outputs": [
    {
     "name": "stdout",
     "output_type": "stream",
     "text": [
      "Found 30 images belonging to 1 classes.\n"
     ]
    }
   ],
   "source": [
    "image_generator = image_datagen.flow_from_directory(\n",
    " train_path,\n",
    " classes = [image_folder],\n",
    " class_mode = None,\n",
    " color_mode = \"grayscale\",\n",
    " target_size = target_size,\n",
    "batch_size = batch_size,\n",
    " seed = seed);"
   ]
  },
  {
   "cell_type": "code",
   "execution_count": 28,
   "metadata": {},
   "outputs": [
    {
     "name": "stdout",
     "output_type": "stream",
     "text": [
      "Found 30 images belonging to 1 classes.\n"
     ]
    }
   ],
   "source": [
    "mask_generator = mask_datagen.flow_from_directory(\n",
    " train_path,\n",
    " classes = [mask_folder],\n",
    " class_mode = None,\n",
    " color_mode = \"grayscale\",\n",
    " target_size = target_size,\n",
    " batch_size = batch_size,\n",
    " seed = seed);"
   ]
  },
  {
   "cell_type": "code",
   "execution_count": 29,
   "metadata": {},
   "outputs": [],
   "source": [
    "def trainGenerator():\n",
    " train_generator=zip(image_generator,mask_generator)\n",
    " for (img,mask) in train_generator:\n",
    "     img=img/255\n",
    "     mask=mask/255\n",
    "     mask[mask > 0.5] = 1\n",
    "     mask[mask <= 0.5] = 0\n",
    "     yield(img,mask)"
   ]
  },
  {
   "cell_type": "code",
   "execution_count": 30,
   "metadata": {
    "scrolled": false
   },
   "outputs": [
    {
     "name": "stdout",
     "output_type": "stream",
     "text": [
      "Model: \"functional_5\"\n",
      "__________________________________________________________________________________________________\n",
      "Layer (type)                    Output Shape         Param #     Connected to                     \n",
      "==================================================================================================\n",
      "input_3 (InputLayer)            [(None, 128, 128, 1) 0                                            \n",
      "__________________________________________________________________________________________________\n",
      "conv2d_38 (Conv2D)              (None, 128, 128, 64) 640         input_3[0][0]                    \n",
      "__________________________________________________________________________________________________\n",
      "batch_normalization_6 (BatchNor (None, 128, 128, 64) 256         conv2d_38[0][0]                  \n",
      "__________________________________________________________________________________________________\n",
      "conv2d_39 (Conv2D)              (None, 128, 128, 64) 36928       batch_normalization_6[0][0]      \n",
      "__________________________________________________________________________________________________\n",
      "max_pooling2d_6 (MaxPooling2D)  (None, 64, 64, 64)   0           conv2d_39[0][0]                  \n",
      "__________________________________________________________________________________________________\n",
      "conv2d_40 (Conv2D)              (None, 64, 64, 128)  73856       max_pooling2d_6[0][0]            \n",
      "__________________________________________________________________________________________________\n",
      "conv2d_41 (Conv2D)              (None, 64, 64, 128)  147584      conv2d_40[0][0]                  \n",
      "__________________________________________________________________________________________________\n",
      "max_pooling2d_7 (MaxPooling2D)  (None, 32, 32, 128)  0           conv2d_41[0][0]                  \n",
      "__________________________________________________________________________________________________\n",
      "conv2d_42 (Conv2D)              (None, 32, 32, 256)  295168      max_pooling2d_7[0][0]            \n",
      "__________________________________________________________________________________________________\n",
      "batch_normalization_8 (BatchNor (None, 32, 32, 256)  1024        conv2d_42[0][0]                  \n",
      "__________________________________________________________________________________________________\n",
      "conv2d_43 (Conv2D)              (None, 32, 32, 256)  590080      batch_normalization_8[0][0]      \n",
      "__________________________________________________________________________________________________\n",
      "dropout_4 (Dropout)             (None, 32, 32, 256)  0           conv2d_43[0][0]                  \n",
      "__________________________________________________________________________________________________\n",
      "max_pooling2d_8 (MaxPooling2D)  (None, 16, 16, 256)  0           dropout_4[0][0]                  \n",
      "__________________________________________________________________________________________________\n",
      "conv2d_44 (Conv2D)              (None, 16, 16, 512)  1180160     max_pooling2d_8[0][0]            \n",
      "__________________________________________________________________________________________________\n",
      "batch_normalization_9 (BatchNor (None, 16, 16, 512)  2048        conv2d_44[0][0]                  \n",
      "__________________________________________________________________________________________________\n",
      "conv2d_45 (Conv2D)              (None, 16, 16, 512)  2359808     batch_normalization_9[0][0]      \n",
      "__________________________________________________________________________________________________\n",
      "dropout_5 (Dropout)             (None, 16, 16, 512)  0           conv2d_45[0][0]                  \n",
      "__________________________________________________________________________________________________\n",
      "up_sampling2d_6 (UpSampling2D)  (None, 32, 32, 512)  0           dropout_5[0][0]                  \n",
      "__________________________________________________________________________________________________\n",
      "conv2d_46 (Conv2D)              (None, 32, 32, 256)  524544      up_sampling2d_6[0][0]            \n",
      "__________________________________________________________________________________________________\n",
      "concatenate_6 (Concatenate)     (None, 32, 32, 512)  0           dropout_4[0][0]                  \n",
      "                                                                 conv2d_46[0][0]                  \n",
      "__________________________________________________________________________________________________\n",
      "conv2d_47 (Conv2D)              (None, 32, 32, 256)  1179904     concatenate_6[0][0]              \n",
      "__________________________________________________________________________________________________\n",
      "batch_normalization_10 (BatchNo (None, 32, 32, 256)  1024        conv2d_47[0][0]                  \n",
      "__________________________________________________________________________________________________\n",
      "conv2d_48 (Conv2D)              (None, 32, 32, 256)  590080      batch_normalization_10[0][0]     \n",
      "__________________________________________________________________________________________________\n",
      "up_sampling2d_7 (UpSampling2D)  (None, 64, 64, 256)  0           conv2d_48[0][0]                  \n",
      "__________________________________________________________________________________________________\n",
      "conv2d_49 (Conv2D)              (None, 64, 64, 128)  131200      up_sampling2d_7[0][0]            \n",
      "__________________________________________________________________________________________________\n",
      "concatenate_7 (Concatenate)     (None, 64, 64, 256)  0           conv2d_41[0][0]                  \n",
      "                                                                 conv2d_49[0][0]                  \n",
      "__________________________________________________________________________________________________\n",
      "conv2d_50 (Conv2D)              (None, 64, 64, 128)  295040      concatenate_7[0][0]              \n",
      "__________________________________________________________________________________________________\n",
      "batch_normalization_11 (BatchNo (None, 64, 64, 128)  512         conv2d_50[0][0]                  \n",
      "__________________________________________________________________________________________________\n",
      "conv2d_51 (Conv2D)              (None, 64, 64, 128)  147584      batch_normalization_11[0][0]     \n",
      "__________________________________________________________________________________________________\n",
      "up_sampling2d_8 (UpSampling2D)  (None, 128, 128, 128 0           conv2d_51[0][0]                  \n",
      "__________________________________________________________________________________________________\n",
      "conv2d_52 (Conv2D)              (None, 128, 128, 164 84132       up_sampling2d_8[0][0]            \n",
      "__________________________________________________________________________________________________\n",
      "concatenate_8 (Concatenate)     (None, 128, 128, 228 0           conv2d_39[0][0]                  \n",
      "                                                                 conv2d_52[0][0]                  \n",
      "__________________________________________________________________________________________________\n",
      "conv2d_53 (Conv2D)              (None, 128, 128, 64) 131392      concatenate_8[0][0]              \n",
      "__________________________________________________________________________________________________\n",
      "batch_normalization_12 (BatchNo (None, 128, 128, 64) 256         conv2d_53[0][0]                  \n",
      "__________________________________________________________________________________________________\n",
      "conv2d_54 (Conv2D)              (None, 128, 128, 64) 36928       batch_normalization_12[0][0]     \n",
      "__________________________________________________________________________________________________\n",
      "conv2d_55 (Conv2D)              (None, 128, 128, 2)  1154        conv2d_54[0][0]                  \n",
      "__________________________________________________________________________________________________\n",
      "batch_normalization_13 (BatchNo (None, 128, 128, 2)  8           conv2d_55[0][0]                  \n",
      "__________________________________________________________________________________________________\n",
      "conv2d_56 (Conv2D)              (None, 128, 128, 1)  3           batch_normalization_13[0][0]     \n",
      "==================================================================================================\n",
      "Total params: 7,811,313\n",
      "Trainable params: 7,808,749\n",
      "Non-trainable params: 2,564\n",
      "__________________________________________________________________________________________________\n",
      "Epoch 1/10\n"
     ]
    },
    {
     "name": "stdout",
     "output_type": "stream",
     "text": [
      "30/30 - 238s - loss: 0.1181 - accuracy: 0.8300\n",
      "Epoch 2/10\n",
      "30/30 - 219s - loss: 0.0908 - accuracy: 0.8774\n",
      "Epoch 3/10\n",
      "30/30 - 227s - loss: 0.0819 - accuracy: 0.8907\n",
      "Epoch 4/10\n",
      "30/30 - 253s - loss: 0.0769 - accuracy: 0.8974\n",
      "Epoch 5/10\n",
      "30/30 - 227s - loss: 0.0726 - accuracy: 0.9030\n",
      "Epoch 6/10\n",
      "30/30 - 223s - loss: 0.0701 - accuracy: 0.9057\n",
      "Epoch 7/10\n",
      "30/30 - 235s - loss: 0.0680 - accuracy: 0.9081\n",
      "Epoch 8/10\n",
      "30/30 - 223s - loss: 0.0655 - accuracy: 0.9113\n",
      "Epoch 9/10\n",
      "30/30 - 231s - loss: 0.0630 - accuracy: 0.9146\n",
      "Epoch 10/10\n",
      "30/30 - 275s - loss: 0.0618 - accuracy: 0.9160\n"
     ]
    }
   ],
   "source": [
    "#<<<<<<<<<<<<<<<<< main <<<<<<<<<<<<<<<<<<<<<<<<<<<<<<<<<\n",
    "#Escolha entre comecar treino do zero ou continuar o treino de onde parou\n",
    "model = unet();\n",
    "#model = load_model(nomeprog+\".h5\");\n",
    "model.fit(trainGenerator(),steps_per_epoch=30,epochs=10,verbose=2);\n",
    "model.save(nomeprog+\".h5\");"
   ]
  },
  {
   "cell_type": "markdown",
   "metadata": {},
   "source": [
    "# Saída sem Batch Normalization\n",
    "\n",
    "Epoch 10/10\n",
    "30/30 - 260s - loss: 0.0879 - accuracy: 0.8927\n"
   ]
  },
  {
   "cell_type": "markdown",
   "metadata": {},
   "source": [
    "# Saída com Batch Normalization\n",
    "\n",
    "Epoch 10/10\n",
    "30/30 - 275s - loss: 0.0618 - accuracy: 0.9160"
   ]
  },
  {
   "cell_type": "code",
   "execution_count": null,
   "metadata": {},
   "outputs": [],
   "source": []
  }
 ],
 "metadata": {
  "kernelspec": {
   "display_name": "Python 3",
   "language": "python",
   "name": "python3"
  },
  "language_info": {
   "codemirror_mode": {
    "name": "ipython",
    "version": 3
   },
   "file_extension": ".py",
   "mimetype": "text/x-python",
   "name": "python",
   "nbconvert_exporter": "python",
   "pygments_lexer": "ipython3",
   "version": "3.6.9"
  }
 },
 "nbformat": 4,
 "nbformat_minor": 2
}
