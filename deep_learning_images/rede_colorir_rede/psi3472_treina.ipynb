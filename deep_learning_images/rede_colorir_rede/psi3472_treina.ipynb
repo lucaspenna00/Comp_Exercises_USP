{
 "cells": [
  {
   "cell_type": "code",
   "execution_count": 1,
   "metadata": {},
   "outputs": [],
   "source": [
    "from os import listdir\n",
    "from os.path import isfile, join\n",
    "import cv2\n",
    "import numpy as np\n",
    "\n",
    "import matplotlib.pyplot as plt"
   ]
  },
  {
   "cell_type": "markdown",
   "metadata": {},
   "source": [
    "# 1. Construir Datasets de Treino e Validação"
   ]
  },
  {
   "cell_type": "code",
   "execution_count": 2,
   "metadata": {},
   "outputs": [],
   "source": [
    "def get_dataset(opt):\n",
    "    \n",
    "    DIR =\"/home/lucas/Desktop/poli/PSI3472/rede_colorir_rede/dados/\"+opt+\"/\"\n",
    "    \n",
    "    X = []\n",
    "    Y = []\n",
    "    \n",
    "    imagens_treino = [f for f in listdir(DIR) if isfile(join(DIR, f))]\n",
    "        \n",
    "    i=1\n",
    "    \n",
    "    for imagem in imagens_treino:\n",
    "        \n",
    "        if i % 2 == 1:\n",
    "            \n",
    "            # Armazenar imagem colorida (Y)\n",
    "            \n",
    "            img = cv2.imread(DIR+imagem)\n",
    "            \n",
    "            img = cv2.cvtColor(img, cv2.COLOR_BGR2LAB)\n",
    "            \n",
    "            Y.append(img)\n",
    "            \n",
    "        if i % 2 == 0:\n",
    "            \n",
    "            # Armazenar imagem preto e branca (X)\n",
    "            \n",
    "            img = cv2.imread(DIR+imagem, 0)\n",
    "                        \n",
    "            X.append(img)\n",
    "            \n",
    "        i=i+1\n",
    "          \n",
    "    X = np.array(X)\n",
    "    Y = np.array(Y)\n",
    "        \n",
    "    return X, Y"
   ]
  },
  {
   "cell_type": "code",
   "execution_count": 3,
   "metadata": {},
   "outputs": [],
   "source": [
    "def pre_process(X, Y):\n",
    "    \n",
    "    n = X.shape[0]\n",
    "    n_linhas = X.shape[1]\n",
    "    n_colunas = X.shape[2]\n",
    "    \n",
    "    X = np.float64(X)/255.0\n",
    "    Y = np.float64(Y)/255.0\n",
    "    \n",
    "    # preto e branco\n",
    "    X = X.reshape(n, n_linhas, n_colunas, 1)\n",
    "    \n",
    "    #colorido\n",
    "    Y = Y.reshape(n, n_linhas, n_colunas, 3)\n",
    "    \n",
    "    input_shape = (n_linhas, n_colunas, 1)\n",
    "    \n",
    "    return X, Y, input_shape"
   ]
  },
  {
   "cell_type": "code",
   "execution_count": 4,
   "metadata": {
    "scrolled": true
   },
   "outputs": [],
   "source": [
    "X_treino, Y_treino = get_dataset(\"treino\")\n",
    "\n",
    "X_val, Y_val = get_dataset(\"validação\")"
   ]
  },
  {
   "cell_type": "code",
   "execution_count": 5,
   "metadata": {},
   "outputs": [],
   "source": [
    "X_treino, Y_treino, input_shape = pre_process(X_treino, Y_treino)\n",
    "\n",
    "X_val, Y_val, input_shape = pre_process(X_val, Y_val)"
   ]
  },
  {
   "cell_type": "markdown",
   "metadata": {},
   "source": [
    "# 2. Arquitetura da Rede Neural Convolucional do tipo U\n",
    "\n",
    "<br>\n",
    "\n",
    "<img src=https://media.springernature.com/full/springer-static/image/art%3A10.1038%2Fs41598-020-62484-z/MediaObjects/41598_2020_62484_Fig1_HTML.png?as=webp>"
   ]
  },
  {
   "cell_type": "code",
   "execution_count": 6,
   "metadata": {},
   "outputs": [],
   "source": [
    "from keras.models import *\n",
    "from keras.layers import *"
   ]
  },
  {
   "cell_type": "code",
   "execution_count": 7,
   "metadata": {},
   "outputs": [],
   "source": [
    "def unet(n, input_shape):  \n",
    "\n",
    "    inputs = Input(input_shape)\n",
    "    \n",
    "    conv2 = Conv2D(n,3, activation ='relu', padding ='same')(inputs)\n",
    "    conv2 = Conv2D(n,3, activation ='relu', padding ='same')(conv2)\n",
    "    pool2 = MaxPooling2D(pool_size=(2,2))(conv2)\n",
    "    \n",
    "    conv3 = Conv2D(2*n,3, activation ='relu', padding ='same')(pool2)\n",
    "    conv3 = Conv2D(2*n,3, activation ='relu', padding ='same')(conv3)\n",
    "    pool3 = MaxPooling2D(pool_size=(2,2))(conv3)\n",
    "                                                               \n",
    "    conv4 = Conv2D(4*n,3, activation ='relu', padding ='same')(pool3)#8x8\n",
    "    conv4 = Conv2D(4*n,3, activation ='relu', padding ='same')(conv4)\n",
    "    pool4 = MaxPooling2D(pool_size=(2,2))(conv4)\n",
    "    \n",
    "    conv5 = Conv2D(8*n,3, activation ='relu', padding ='same')(pool4)\n",
    "    conv5 = Conv2D(8*n,3, activation ='relu', padding ='same')(conv5)\n",
    "    \n",
    "    up6 = Conv2D(4*n,2, activation ='relu', padding ='same')(UpSampling2D(size =(2,2))(conv5))\n",
    "    \n",
    "    merge6 = concatenate([conv4,up6], axis =3)\n",
    "    conv6 = Conv2D(4*n,3, activation ='relu', padding ='same')(merge6)\n",
    "    conv6 = Conv2D(4*n,3, activation ='relu', padding ='same')(conv6)\n",
    "    \n",
    "    up7 = Conv2D(2*n,2, activation ='relu', padding ='same')(UpSampling2D(size =(2,2))(conv6))\n",
    "    \n",
    "    merge7 = concatenate([conv3,up7], axis =3)\n",
    "    conv7 = Conv2D(2*n,3, activation ='relu', padding ='same')(merge7)\n",
    "    conv7 = Conv2D(2*n,3, activation ='relu', padding ='same')(conv7)\n",
    "    \n",
    "    up8 = Conv2D(n,2, activation ='relu', padding ='same')(UpSampling2D(size =(2,2))(conv7))\n",
    "    merge8 = concatenate([conv2,up8], axis =3)\n",
    "    conv8 = Conv2D(n,3, activation ='relu', padding ='same')(merge8)\n",
    "    conv8 = Conv2D(n,3, activation ='relu', padding ='same')(conv8)\n",
    "    \n",
    "    conv9 = Conv2D(3,1, activation ='sigmoid', padding ='same')(conv8)\n",
    "    \n",
    "    model = Model(inputs = inputs, outputs = conv9)\n",
    "                                                                           \n",
    "    model.compile(optimizer = 'adam', loss ='mean_squared_error', metrics =['mse'])\n",
    "\n",
    "    model.summary()\n",
    "\n",
    "    return model"
   ]
  },
  {
   "cell_type": "code",
   "execution_count": 8,
   "metadata": {},
   "outputs": [],
   "source": [
    "def fcnet(input_shape):\n",
    "    \n",
    "    model = Sequential()\n",
    "    model.add(Conv2D(40, kernel_size=(5,5), strides=2, activation='relu', padding='same', input_shape=input_shape)) #saida “20”*16*16*40\n",
    "    model.add(Dropout(0.25))\n",
    "    model.add(Conv2D(12, kernel_size=(5,5), strides=2, activation='relu', padding='same')) #saida 8*8\n",
    "    model.add(Dropout(0.25))\n",
    "    model.add(Conv2D(12, kernel_size=(5,5), strides=2, activation='relu', padding='same')) #saida 4*4\n",
    "    model.add(Dropout(0.25))\n",
    "    model.add(Conv2DTranspose(12, kernel_size=(5,5), strides=2, activation='relu', padding='same')) #saida 8*8\n",
    "    model.add(Dropout(0.25))\n",
    "    model.add(Conv2DTranspose(40, kernel_size=(5,5), strides=2, activation='relu', padding='same')) #saida 16*16*40\n",
    "    model.add(Dropout(0.25))\n",
    "    model.add(Conv2DTranspose(3, kernel_size=(5,5), strides=2, padding='same')) #saida ?*32*32*1\n",
    "                                                                               \n",
    "    model.compile(optimizer = 'adam', loss ='mean_squared_error', metrics =['mse'])\n",
    "\n",
    "    model.summary()\n",
    "\n",
    "    return model    "
   ]
  },
  {
   "cell_type": "code",
   "execution_count": 9,
   "metadata": {},
   "outputs": [],
   "source": [
    "#model = unet(30, input_shape)"
   ]
  },
  {
   "cell_type": "code",
   "execution_count": null,
   "metadata": {},
   "outputs": [
    {
     "name": "stdout",
     "output_type": "stream",
     "text": [
      "Model: \"sequential\"\n",
      "_________________________________________________________________\n",
      "Layer (type)                 Output Shape              Param #   \n",
      "=================================================================\n",
      "conv2d (Conv2D)              (None, 192, 128, 40)      1040      \n",
      "_________________________________________________________________\n",
      "dropout (Dropout)            (None, 192, 128, 40)      0         \n",
      "_________________________________________________________________\n",
      "conv2d_1 (Conv2D)            (None, 96, 64, 12)        12012     \n",
      "_________________________________________________________________\n",
      "dropout_1 (Dropout)          (None, 96, 64, 12)        0         \n",
      "_________________________________________________________________\n",
      "conv2d_2 (Conv2D)            (None, 48, 32, 12)        3612      \n",
      "_________________________________________________________________\n",
      "dropout_2 (Dropout)          (None, 48, 32, 12)        0         \n",
      "_________________________________________________________________\n",
      "conv2d_transpose (Conv2DTran (None, 96, 64, 12)        3612      \n",
      "_________________________________________________________________\n",
      "dropout_3 (Dropout)          (None, 96, 64, 12)        0         \n",
      "_________________________________________________________________\n",
      "conv2d_transpose_1 (Conv2DTr (None, 192, 128, 40)      12040     \n",
      "_________________________________________________________________\n",
      "dropout_4 (Dropout)          (None, 192, 128, 40)      0         \n",
      "_________________________________________________________________\n",
      "conv2d_transpose_2 (Conv2DTr (None, 384, 256, 3)       3003      \n",
      "=================================================================\n",
      "Total params: 35,319\n",
      "Trainable params: 35,319\n",
      "Non-trainable params: 0\n",
      "_________________________________________________________________\n"
     ]
    }
   ],
   "source": [
    "model = fcnet(input_shape)"
   ]
  },
  {
   "cell_type": "markdown",
   "metadata": {},
   "source": [
    "# 3. Treinar Rede Neural"
   ]
  },
  {
   "cell_type": "code",
   "execution_count": null,
   "metadata": {
    "scrolled": true
   },
   "outputs": [
    {
     "name": "stdout",
     "output_type": "stream",
     "text": [
      "Epoch 1/1000\n",
      "20/20 [==============================] - 16s 823ms/step - loss: 0.1280 - mse: 0.1280 - val_loss: 0.0531 - val_mse: 0.0531\n",
      "Epoch 2/1000\n",
      "20/20 [==============================] - 15s 740ms/step - loss: 0.0471 - mse: 0.0471 - val_loss: 0.0330 - val_mse: 0.0330\n",
      "Epoch 3/1000\n",
      "20/20 [==============================] - 15s 748ms/step - loss: 0.0286 - mse: 0.0286 - val_loss: 0.0244 - val_mse: 0.0244\n",
      "Epoch 4/1000\n",
      "20/20 [==============================] - 15s 764ms/step - loss: 0.0246 - mse: 0.0246 - val_loss: 0.0222 - val_mse: 0.0222\n",
      "Epoch 5/1000\n",
      "13/20 [==================>...........] - ETA: 4s - loss: 0.0228 - mse: 0.0228"
     ]
    }
   ],
   "source": [
    "model.fit(X_treino, Y_treino, batch_size=10, epochs=1000, validation_data=(X_val, Y_val))"
   ]
  },
  {
   "cell_type": "code",
   "execution_count": null,
   "metadata": {
    "scrolled": false
   },
   "outputs": [],
   "source": [
    "from keras.utils import plot_model\n",
    "plot_model(model, show_shapes=True)"
   ]
  },
  {
   "cell_type": "markdown",
   "metadata": {},
   "source": [
    "# 4. Avaliar o modelo"
   ]
  },
  {
   "cell_type": "code",
   "execution_count": null,
   "metadata": {},
   "outputs": [],
   "source": [
    "score = model.evaluate(X_treino, Y_treino, verbose=0)\n",
    "print('Training loss:', score)\n",
    "\n",
    "score = model.evaluate(X_val, Y_val, verbose=0)\n",
    "print('Validation loss:', score)"
   ]
  },
  {
   "cell_type": "markdown",
   "metadata": {},
   "source": [
    "# 5. Salvando o Modelo"
   ]
  },
  {
   "cell_type": "code",
   "execution_count": null,
   "metadata": {},
   "outputs": [],
   "source": [
    "model.save('psi3472.h5')"
   ]
  }
 ],
 "metadata": {
  "kernelspec": {
   "display_name": "Python 3",
   "language": "python",
   "name": "python3"
  },
  "language_info": {
   "codemirror_mode": {
    "name": "ipython",
    "version": 3
   },
   "file_extension": ".py",
   "mimetype": "text/x-python",
   "name": "python",
   "nbconvert_exporter": "python",
   "pygments_lexer": "ipython3",
   "version": "3.6.9"
  }
 },
 "nbformat": 4,
 "nbformat_minor": 2
}
