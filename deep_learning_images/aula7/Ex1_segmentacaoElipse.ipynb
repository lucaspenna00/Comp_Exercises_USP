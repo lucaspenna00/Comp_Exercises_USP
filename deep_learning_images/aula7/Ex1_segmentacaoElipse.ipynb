{
 "cells": [
  {
   "cell_type": "markdown",
   "metadata": {},
   "source": [
    "# [Lição de casa 1 da aula 7] \n",
    "\n",
    "Qualquer imagem de tamanho nl×nc tais que nl e nc são divisíveis por\n",
    "8 e nl≥32, nc≥32 pode ser segmentada usando a rede fcn1.h5 treinada acima (por exemplo, imagens\n",
    "maior1x.png e maior2x.png do BD). Estou impondo que nl e nc devem ser divisíveis por 8, pois a\n",
    "rede fcn1.h5 reduz a resolução da imagem por 2 três vezes. No TF2, o programa acima funciona se\n",
    "você simplesmente alimentar o programa com as imagens maiores (apesar de gerar warnings). É\n",
    "possível evitar warnings, recriando a mesma rede de treino com entrada de tamanho maior (nl×nc)\n",
    "e carregando os pesos da rede treinada (sem a estrutura da rede) usando o método\n",
    "model.load_weights(nome_da_rede).\n",
    "Faça o programa como descrito acima, evitando warnings. Teste esse programa nas imagens maior1x.png e maior2x.png, mostrando as saídas. A qualidade da segmentação será bastante ruim, pois\n",
    "a rede não foi treinada para realizar esta tarefa. Mostre no vídeo que as saídas do seu programa e\n",
    "que ele não gera warnings.\n",
    "Esta propriedade (treinar rede completamente convolucional em imagens pequenas e aplicá-la em\n",
    "imagens grandes) é usada em muitas aplicações."
   ]
  },
  {
   "cell_type": "code",
   "execution_count": 28,
   "metadata": {},
   "outputs": [],
   "source": [
    "#fcn-pred1.py - grad2020 - testada em colab para TF2\n",
    "#Faz segmentacao semantica usando rede gerada pelo fcn-train1.py\n",
    "import cv2\n",
    "import numpy as np\n",
    "import keras\n",
    "from keras.models import load_model, Model, Sequential\n",
    "from keras.layers import Dropout, Conv2D, Conv2DTranspose\n",
    "from keras import optimizers\n",
    "import sys\n",
    "from sys import argv\n",
    "import os\n",
    "\n",
    "from keras.engine import InputLayer, Input\n",
    "\n",
    "%matplotlib inline"
   ]
  },
  {
   "cell_type": "code",
   "execution_count": 29,
   "metadata": {},
   "outputs": [],
   "source": [
    "bdDir = \"/home/lucas/Desktop/poli/PSI3472/aula7/dados_in_ex1\"\n",
    "outDir = \"/home/lucas/Desktop/poli/PSI3472/aula7/dados_out_ex1\"; os.chdir(outDir)\n",
    "nome=\"maior2\"\n",
    "inImgX = nome+\"x.png\"\n",
    "inImgY = nome+\"y.png\"\n",
    "outImgG =nome+\"g.png\"\n",
    "outImgB =nome+\"b.png\"\n",
    "arquivoRede = \"fcn1.h5\""
   ]
  },
  {
   "cell_type": "markdown",
   "metadata": {},
   "source": [
    "# A mudança foi feita aqui:\n",
    "\n",
    "Trocamos a camada 1 de input por outra que tenha as dimensões da nova imagem, no caso **new_input_shape**."
   ]
  },
  {
   "cell_type": "code",
   "execution_count": 30,
   "metadata": {},
   "outputs": [],
   "source": [
    "new_input_shape = (72, 88, 1)"
   ]
  },
  {
   "cell_type": "code",
   "execution_count": 31,
   "metadata": {},
   "outputs": [],
   "source": [
    "QX=cv2.imread(os.path.join(bdDir,inImgX),0)\n",
    "QY=cv2.imread(os.path.join(bdDir,inImgY),0)\n",
    "nl=QX.shape[0]; nc=QX.shape[1]\n",
    "qx=np.float32(QX)/255.0 #Entre 0 e +1\n",
    "qx=qx.reshape(1, nl, nc, 1)"
   ]
  },
  {
   "cell_type": "code",
   "execution_count": 32,
   "metadata": {},
   "outputs": [],
   "source": [
    "# Gerando a rede com formato de entrada diferente\n",
    "model = Sequential()\n",
    "\n",
    "# Downsampling\n",
    "model.add(Conv2D(40, kernel_size=(5,5), strides=2, activation='relu', padding='same', input_shape=new_input_shape)) #saida 16*16\n",
    "model.add(Dropout(0.25))\n",
    "model.add(Conv2D(12, kernel_size=(5,5), strides=2, activation='relu', padding='same')) #saida 8*8\n",
    "model.add(Dropout(0.25))\n",
    "model.add(Conv2D(12, kernel_size=(5,5), strides=2, activation='relu', padding='same')) #saida 4*4\n",
    "model.add(Dropout(0.25))\n",
    "\n",
    "# Upsampling\n",
    "model.add(Conv2DTranspose(12, kernel_size=(5,5), strides=2, activation='relu', padding='same')) #saida 8*8\n",
    "model.add(Dropout(0.25))\n",
    "model.add(Conv2DTranspose(40, kernel_size=(5,5), strides=2, activation='relu', padding='same')) #saida 16*16\n",
    "model.add(Dropout(0.25))\n",
    "model.add(Conv2DTranspose(1, kernel_size=(5,5), strides=2, padding='same')) #saida 32*32\n",
    "\n",
    "model.load_weights('fcn1.h5')"
   ]
  },
  {
   "cell_type": "code",
   "execution_count": 33,
   "metadata": {},
   "outputs": [
    {
     "name": "stdout",
     "output_type": "stream",
     "text": [
      "WARNING:tensorflow:Model was constructed with shape (None, 72, 88, 1) for input Tensor(\"conv2d_9_input:0\", shape=(None, 72, 88, 1), dtype=float32), but it was called on an input with incompatible shape (None, 80, 88, 1).\n"
     ]
    }
   ],
   "source": [
    "qp=model.predict(qx)\n",
    "qp=qp.reshape(nl,nc) # entre 0 e +1"
   ]
  },
  {
   "cell_type": "code",
   "execution_count": 34,
   "metadata": {},
   "outputs": [
    {
     "data": {
      "text/plain": [
       "True"
      ]
     },
     "execution_count": 34,
     "metadata": {},
     "output_type": "execute_result"
    }
   ],
   "source": [
    "QPG=255.0*qp\n",
    "QPG=np.clip(QPG,0,255) # Entre 0 e 255\n",
    "QPG=np.uint8(QPG)\n",
    "cv2.imwrite(os.path.join(outDir,outImgG),QPG)"
   ]
  },
  {
   "cell_type": "code",
   "execution_count": 35,
   "metadata": {},
   "outputs": [
    {
     "data": {
      "text/plain": [
       "True"
      ]
     },
     "execution_count": 35,
     "metadata": {},
     "output_type": "execute_result"
    }
   ],
   "source": [
    "QPB=np.zeros((nl,nc),dtype='uint8')\n",
    "QPB[ qp>=0.5 ] = 255\n",
    "cv2.imwrite(os.path.join(outDir,outImgB),QPB)"
   ]
  },
  {
   "cell_type": "code",
   "execution_count": 36,
   "metadata": {},
   "outputs": [
    {
     "data": {
      "image/png": "[encoded data removed]",
      "text/plain": [
       "<Figure size 432x288 with 4 Axes>"
      ]
     },
     "metadata": {},
     "output_type": "display_data"
    }
   ],
   "source": [
    "from matplotlib import pyplot as plt\n",
    "f = plt.figure()\n",
    "f.add_subplot(1,4,1)\n",
    "plt.imshow(QX,cmap=\"gray\")\n",
    "plt.axis('off')\n",
    "f.add_subplot(1,4,2)\n",
    "plt.imshow(QY,cmap=\"gray\")\n",
    "plt.axis('off')\n",
    "f.add_subplot(1,4,3)\n",
    "plt.imshow(QPG,cmap=\"gray\")\n",
    "plt.axis('off')\n",
    "f.add_subplot(1,4,4)\n",
    "plt.imshow(QPB,cmap=\"gray\")\n",
    "plt.axis('off')\n",
    "plt.show(block=True)"
   ]
  }
 ],
 "metadata": {
  "kernelspec": {
   "display_name": "Python 3",
   "language": "python",
   "name": "python3"
  },
  "language_info": {
   "codemirror_mode": {
    "name": "ipython",
    "version": 3
   },
   "file_extension": ".py",
   "mimetype": "text/x-python",
   "name": "python",
   "nbconvert_exporter": "python",
   "pygments_lexer": "ipython3",
   "version": "3.6.9"
  }
 },
 "nbformat": 4,
 "nbformat_minor": 2
}
