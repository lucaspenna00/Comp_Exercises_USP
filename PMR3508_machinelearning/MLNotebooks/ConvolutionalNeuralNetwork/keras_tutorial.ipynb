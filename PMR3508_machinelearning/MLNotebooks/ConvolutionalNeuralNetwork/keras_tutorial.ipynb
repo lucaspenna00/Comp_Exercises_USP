{
 "cells": [
  {
   "cell_type": "code",
   "execution_count": 1,
   "metadata": {},
   "outputs": [],
   "source": [
    "from IPython.display import Image\n",
    "from IPython.core.display import HTML "
   ]
  },
  {
   "cell_type": "markdown",
   "metadata": {},
   "source": [
    "# Introdução ao aprendizado profundo, redes neurais convolucionais e Keras\n",
    "Fontes : \n",
    "\n",
    "1) https://machinelearningmastery.com/handwritten-digit-recognition-using-convolutional-neural-networks-python-keras/\n",
    "\n",
    "2) https://towardsdatascience.com/a-visual-introduction-to-neural-networks-68586b0b733b\n",
    "\n",
    "3) http://www.dspguide.com/graphics/F_26_5.gif\n",
    "\n",
    "4) https://cdn-images-1.medium.com/max/1600/1*iT3SEgwnbhLloLY_zk1PfA.gif\n",
    "\n",
    "5) https://cdn-images-1.medium.com/max/1600/0*Eyhhx33AK58cHDXZ.png\n",
    "\n",
    "6) http://colah.github.io/posts/2014-07-Understanding-Convolutions/\n",
    "\n",
    "7) https://docs.gimp.org/2.10/en/gimp-filter-convolution-matrix.html"
   ]
  },
  {
   "cell_type": "markdown",
   "metadata": {},
   "source": [
    "## Por que profundo? "
   ]
  },
  {
   "cell_type": "markdown",
   "metadata": {},
   "source": [
    "### Multilayered Perceptron"
   ]
  },
  {
   "cell_type": "markdown",
   "metadata": {},
   "source": [
    "![Multilayer perceptron](http://www.dspguide.com/graphics/F_26_5.gif)"
   ]
  },
  {
   "cell_type": "markdown",
   "metadata": {},
   "source": [
    "Esta arquitetura aparentemente aprende sem nenhum problema... então por que complicar?"
   ]
  },
  {
   "cell_type": "markdown",
   "metadata": {},
   "source": [
    "![learning model](https://cdn-images-1.medium.com/max/1600/1*iT3SEgwnbhLloLY_zk1PfA.gif)"
   ]
  },
  {
   "cell_type": "markdown",
   "metadata": {},
   "source": [
    "### Deeper Network"
   ]
  },
  {
   "cell_type": "markdown",
   "metadata": {},
   "source": [
    "![Deeper Network](https://cdn-images-1.medium.com/max/1600/0*Eyhhx33AK58cHDXZ.png)"
   ]
  },
  {
   "cell_type": "markdown",
   "metadata": {},
   "source": [
    "Nem todos os espaços de features são simples como o mostrado acima - às vezes ajuda você ter diversas camadas de interpretação dos dados."
   ]
  },
  {
   "cell_type": "markdown",
   "metadata": {},
   "source": [
    "Exemplo legal para entender melhor: http://scs.ryerson.ca/~aharley/vis/conv/flat.html"
   ]
  },
  {
   "cell_type": "markdown",
   "metadata": {},
   "source": [
    "### O que é convolução?"
   ]
  },
  {
   "cell_type": "markdown",
   "metadata": {},
   "source": [
    " Explicação bem visual e detalhada pode ser encontrada aqui: http://colah.github.io/posts/2014-07-Understanding-Convolutions/\n"
   ]
  },
  {
   "cell_type": "markdown",
   "metadata": {},
   "source": [
    "Para o nosso caso, tenham isso em mente: "
   ]
  },
  {
   "cell_type": "markdown",
   "metadata": {},
   "source": [
    "![definição básica de convolução](http://colah.github.io/posts/2014-07-Understanding-Convolutions/img/RiverTrain-ImageConvDiagram.png)"
   ]
  },
  {
   "cell_type": "markdown",
   "metadata": {},
   "source": [
    "Aplica-se o kernel de convolução a cada um dos quadrados disponíveis na imagem, obtendo-se a imagem ao lado:"
   ]
  },
  {
   "cell_type": "markdown",
   "metadata": {},
   "source": [
    "A | B | C\n",
    "- | - | - |\n",
    "![original](https://docs.gimp.org/2.10/en/images/filters/examples/generic-taj-convmatrix-sharpen.jpg) | ![kernel](https://docs.gimp.org/2.10/en/images/filters/examples/convolution-edge-detect1.png) |![result](https://docs.gimp.org/2.10/en/images/filters/examples/generic-taj-convmatrix-edge-detect.jpg) "
   ]
  },
  {
   "cell_type": "markdown",
   "metadata": {},
   "source": [
    "#### Exemplo notável de convolução de kernels feitos a mão -algoritmo de Viola-Jones para detecção de faces : https://cs.nyu.edu/courses/fall12/CSCI-GA.2560-001/FaceRecognitionBoosting.pdf"
   ]
  },
  {
   "cell_type": "markdown",
   "metadata": {},
   "source": [
    "### Por quê convoluir?\n",
    "Mais fácil de entender com um exemplo"
   ]
  },
  {
   "cell_type": "markdown",
   "metadata": {},
   "source": [
    "# Conhecendo nosso dataset - O que é MNIST?"
   ]
  },
  {
   "cell_type": "code",
   "execution_count": 2,
   "metadata": {},
   "outputs": [
    {
     "name": "stderr",
     "output_type": "stream",
     "text": [
      "Using TensorFlow backend.\n"
     ]
    },
    {
     "name": "stdout",
     "output_type": "stream",
     "text": [
      "Downloading data from https://s3.amazonaws.com/img-datasets/mnist.npz\n",
      "11493376/11490434 [==============================] - 41s 4us/step\n"
     ]
    },
    {
     "data": {
      "image/png": "[encoded data removed]",
      "text/plain": [
       "<Figure size 432x288 with 4 Axes>"
      ]
     },
     "metadata": {},
     "output_type": "display_data"
    }
   ],
   "source": [
    "%matplotlib inline\n",
    "# O keras tem o dataset já pre-carregado\n",
    "from keras.datasets import mnist\n",
    "import matplotlib.pyplot as plt\n",
    "# carregamos o dataset:\n",
    "(X_train, y_train), (X_test, y_test) = mnist.load_data()\n",
    "# plot 4 images as gray scale\n",
    "plt.subplot(221)\n",
    "plt.imshow(X_train[0], cmap=plt.get_cmap('gray'))\n",
    "plt.subplot(222)\n",
    "plt.imshow(X_train[1], cmap=plt.get_cmap('gray'))\n",
    "plt.subplot(223)\n",
    "plt.imshow(X_train[2], cmap=plt.get_cmap('gray'))\n",
    "plt.subplot(224)\n",
    "plt.imshow(X_train[3], cmap=plt.get_cmap('gray'))\n",
    "# show the plot\n",
    "plt.show()"
   ]
  },
  {
   "cell_type": "markdown",
   "metadata": {},
   "source": [
    "Imagens em grayscale 28x28 de dígitos escritos a mão - O objetivo é identificar cada um deles. "
   ]
  },
  {
   "cell_type": "markdown",
   "metadata": {},
   "source": [
    "# O que é o Tensorflow  ?  O que é o Keras ? "
   ]
  },
  {
   "cell_type": "markdown",
   "metadata": {},
   "source": [
    "## Tensorflow é bem mais versátil, mas bem mais verboso - vide https://github.com/aymericdamien/TensorFlow-Examples/blob/master/notebooks/3_NeuralNetworks/neural_network_raw.ipynb"
   ]
  },
  {
   "cell_type": "markdown",
   "metadata": {},
   "source": [
    "# Baseline model - Multilayer perceptron"
   ]
  },
  {
   "cell_type": "markdown",
   "metadata": {},
   "source": [
    "Para efeitos de comparação, vamos construir uma rede neural rasa plenamente conectada, para se ter uma idéia de tamanho e de performance. "
   ]
  },
  {
   "cell_type": "code",
   "execution_count": 4,
   "metadata": {},
   "outputs": [],
   "source": [
    "#importamos as bibliotecas relevantes\n",
    "import numpy as np\n",
    "# o dataset do mnist\n",
    "from keras.datasets import mnist\n",
    "# O Keras permite que nós construamos modelos de diversos tipos, LSTM, paralelos entre outros. Para o nosso caso, basta\n",
    "# o modelo sequencial feedforward i.e. a saida de uma camada serve de entrada para a outra e uma camada só vê o que sai\n",
    "# da que veio antes dela, daí, Sequential.\n",
    "from keras.models import Sequential\n",
    "# cada \"pedaço\" de uma rede neural é tratado no keras como sendo uma camada. A camada dense é uma camada fully connected\n",
    "# de uma rede neural.\n",
    "from keras.layers import Dense\n",
    "# dropout é uma técnica usada para garantir que a rede neural fique mais robusta a variações e que ela tenha redundâncias\n",
    "# na detecção. - Leia mais sobre isso aqui : https://medium.com/@amarbudhiraja/https-medium-com-amarbudhiraja-learning-less-to-learn-better-dropout-in-deep-machine-learning-74334da4bfc5\n",
    "from keras.layers import Dropout\n",
    "# Esta biblioteca ajuda a fazer o one-hot encoding dos alvos. \n",
    "from keras.utils import np_utils"
   ]
  },
  {
   "cell_type": "code",
   "execution_count": null,
   "metadata": {},
   "outputs": [],
   "source": [
    "# Mantendo uma seed constante no gerador aletório do numpy\n",
    "seed = 7\n",
    "np.random.seed(seed)"
   ]
  },
  {
   "cell_type": "code",
   "execution_count": null,
   "metadata": {},
   "outputs": [],
   "source": [
    "# carrego os dados\n",
    "(X_train, y_train), (X_test, y_test) = mnist.load_data()"
   ]
  },
  {
   "cell_type": "code",
   "execution_count": null,
   "metadata": {},
   "outputs": [],
   "source": [
    "# transformando as imagens 28x28 em um vetor com 784 componentes para poder servir de entrada para a primeira camada da rede\n",
    "num_pixels = X_train.shape[1] * X_train.shape[2]\n",
    "X_train = X_train.reshape(X_train.shape[0], num_pixels).astype('float32')\n",
    "X_test = X_test.reshape(X_test.shape[0], num_pixels).astype('float32')"
   ]
  },
  {
   "cell_type": "code",
   "execution_count": null,
   "metadata": {},
   "outputs": [],
   "source": [
    "# Normalizando os inputs - prática comum em NN - deixa o problema melhor comportado numericamente\n",
    "X_train = X_train / 255\n",
    "X_test = X_test / 255"
   ]
  },
  {
   "cell_type": "code",
   "execution_count": null,
   "metadata": {},
   "outputs": [],
   "source": [
    "# one-hot encoding dos outputs (maneira usada para se lidar comproblemas de classificação múltipla em redes neurais)\n",
    "# one-hot encoding é também usado para se lidar com variáveis categóricas como features!\n",
    "y_train = np_utils.to_categorical(y_train)\n",
    "y_test = np_utils.to_categorical(y_test)\n",
    "num_classes = y_test.shape[1]"
   ]
  },
  {
   "cell_type": "markdown",
   "metadata": {},
   "source": [
    "![Multilayer perceptron](http://www.dspguide.com/graphics/F_26_5.gif)"
   ]
  },
  {
   "cell_type": "code",
   "execution_count": null,
   "metadata": {},
   "outputs": [],
   "source": [
    "# definindo o modelo baseline\n",
    "def baseline_model():\n",
    "    # criamos o modelo\n",
    "    # começamos por instanciar o esqueleto do modelo, neste caso, o sequencial\n",
    "    model = Sequential()\n",
    "    # em seguida, adicionamos as camadas uma a uma. Adicionamos uma camada de entrada com ativação relu\n",
    "    model.add(Dense(num_pixels, input_dim=num_pixels, kernel_initializer='normal', activation='relu'))\n",
    "    # e a camada de saída, com ativação softmax para transformar as saídas numéricas em probabilidades\n",
    "    model.add(Dense(num_classes, kernel_initializer='normal', activation='softmax'))\n",
    "    # compilamos o modelo escolhendo a função objetiva, o otimizador (cuja escolha é empírica) e a métrica \n",
    "    #de performance mais conveniente.\n",
    "    model.compile(loss='categorical_crossentropy', optimizer='adam', metrics=['accuracy'])\n",
    "    return model"
   ]
  },
  {
   "cell_type": "code",
   "execution_count": null,
   "metadata": {},
   "outputs": [],
   "source": [
    "%matplotlib inline\n",
    "# construimos o modelo com nossa classe\n",
    "model = baseline_model()\n",
    "model.summary()"
   ]
  },
  {
   "cell_type": "markdown",
   "metadata": {},
   "source": [
    "Note que, para um modelo extremamente simples, nos já temos mais de 600k parâmetros para ajustar. "
   ]
  },
  {
   "cell_type": "code",
   "execution_count": null,
   "metadata": {
    "scrolled": true
   },
   "outputs": [],
   "source": [
    "# Treinamos o modelo, usando uma sintaxe parecida com a do scikit-learn, selecionando dois fatores cruciais para o \n",
    "# treinamento de redes neurais - o tamanho do batch e o número de rounds no treinamento.\n",
    "# O número de rounds no treinamento é simples - indica quantas vezes você vai aplicar o algoritmo de Backpropagation \n",
    "# no seu dataset de treino. Se você tem um modelo com muita variância e treina ele demais - acaba overfitando.\n",
    "# O outro parâmetro relevante é o tamanho do batch. O batch é a quantidade de samples que vc usa por cada step do algoritmo\n",
    "# de backpropagation que você faz. Um batch size pequeno garante que você fará muitos updates dos parâmetros do seu modelo\n",
    "# mesmo durante a primeira rodada, o que pode acelerar o aprendizado. Ao mesmo tempo, um batch size pequeno pode acabar\n",
    "# te prendendo em um máximo/mínimo local. Portanto, é interessante brincar com esse parâmetro e ver o que acontece com \n",
    "# a acurácia do seu modelo e com seu tempo de convergência.\n",
    "model.fit(X_train, y_train, validation_data=(X_test, y_test), epochs=10, batch_size=200, verbose=2)\n",
    "# Avaliação final do modelo.\n",
    "scores = model.evaluate(X_test, y_test, verbose=0)\n",
    "print(\"Baseline Error: %.2f%%\" % (100-scores[1]*100))\n",
    "\n",
    "# Boa estratégia ?"
   ]
  },
  {
   "cell_type": "markdown",
   "metadata": {},
   "source": [
    "# Rede Convolucional Simples\n"
   ]
  },
  {
   "cell_type": "code",
   "execution_count": 4,
   "metadata": {},
   "outputs": [
    {
     "name": "stderr",
     "output_type": "stream",
     "text": [
      "Using TensorFlow backend.\n"
     ]
    }
   ],
   "source": [
    "import numpy as np\n",
    "from keras.datasets import mnist\n",
    "from keras.models import Sequential\n",
    "from keras.layers import Dense\n",
    "from keras.layers import Dropout\n",
    "from keras.layers import Flatten\n",
    "from keras.layers.convolutional import Conv2D\n",
    "from keras.layers.convolutional import MaxPooling2D\n",
    "from keras.utils import np_utils\n",
    "from keras import backend as K\n",
    "K.set_image_dim_ordering('th')"
   ]
  },
  {
   "cell_type": "code",
   "execution_count": 5,
   "metadata": {},
   "outputs": [],
   "source": [
    "# Mantendo a seed constante para poder reproduzir os resultados\n",
    "seed = 7\n",
    "np.random.seed(seed)"
   ]
  },
  {
   "cell_type": "code",
   "execution_count": 6,
   "metadata": {},
   "outputs": [],
   "source": [
    "# carregamos o dataset\n",
    "(X_train, y_train), (X_test, y_test) = mnist.load_data()\n",
    "# imagens podem ter várias camadas de cor - R,G,B, por exemplo. Assim sendo, modelos convolucionais geralmente esperam\n",
    "# em suas entradas, matrizes tetradimensionais, i.e., no formato [samples][canais][width][height] , onde canais é o número\n",
    "# de canais de cor de sua imagem. No caso do MNIST, é uma imagem em grayscale, então temos apenas um canal de cor. \n",
    "X_train = X_train.reshape(X_train.shape[0], 1, 28, 28).astype('float32')\n",
    "X_test = X_test.reshape(X_test.shape[0], 1, 28, 28).astype('float32')"
   ]
  },
  {
   "cell_type": "code",
   "execution_count": 7,
   "metadata": {},
   "outputs": [],
   "source": [
    "# Novamente normalizando as features\n",
    "X_train = X_train / 255\n",
    "X_test = X_test / 255\n",
    "# one hot encode outputs\n",
    "y_train = np_utils.to_categorical(y_train)\n",
    "y_test = np_utils.to_categorical(y_test)\n",
    "num_classes = y_test.shape[1]"
   ]
  },
  {
   "cell_type": "code",
   "execution_count": 8,
   "metadata": {},
   "outputs": [],
   "source": [
    "def baseline_model():\n",
    "    # criando o modelo\n",
    "    model = Sequential()\n",
    "    # de novo, simplesmente basta adicionar a camada de convolução. Vale notar que para esta camada temos que determinar\n",
    "    #o número de kernels de convolução, (32,neste caso), o tamanho do kernel de convolução (5x5) e o formato de cada \n",
    "    # entrada, neste caso, 1 canal e uma imagem 28x28\n",
    "    model.add(Conv2D(32, (5, 5), input_shape=(1, 28, 28), activation='relu'))\n",
    "    # em seguida, adicionamos uma camada de pooling, para reduzir a dimensionalidade do problema e acelearar o aprendizado\n",
    "    # sobre o efeito do pooling, vc pode ler mais aqui: https://pt.coursera.org/lecture/convolutional-neural-networks/pooling-layers-hELHk\n",
    "    model.add(MaxPooling2D(pool_size=(2, 2)))\n",
    "    # incluimos uma camada de dropout para adicionar robustez ao aprendizado\n",
    "    model.add(Dropout(0.2))\n",
    "    # em seguida, para a camada de saída, temos que formatar as saídas da camada convolucional em um vetor que pode servir\n",
    "    # de entrada para uma camada conectada tradicional\n",
    "    model.add(Flatten())\n",
    "    model.add(Dense(128, activation='relu'))\n",
    "    # adicionamos, por fim, a camada de saída, com ativação softmax para transformar os valores em probabilidades.\n",
    "    model.add(Dense(num_classes, activation='softmax'))\n",
    "    # compilando o modelo\n",
    "    model.compile(loss='categorical_crossentropy', optimizer='adam', metrics=['accuracy'])\n",
    "    return model"
   ]
  },
  {
   "cell_type": "code",
   "execution_count": 9,
   "metadata": {},
   "outputs": [
    {
     "name": "stdout",
     "output_type": "stream",
     "text": [
      "_________________________________________________________________\n",
      "Layer (type)                 Output Shape              Param #   \n",
      "=================================================================\n",
      "conv2d_1 (Conv2D)            (None, 32, 24, 24)        832       \n",
      "_________________________________________________________________\n",
      "max_pooling2d_1 (MaxPooling2 (None, 32, 12, 12)        0         \n",
      "_________________________________________________________________\n",
      "dropout_1 (Dropout)          (None, 32, 12, 12)        0         \n",
      "_________________________________________________________________\n",
      "flatten_1 (Flatten)          (None, 4608)              0         \n",
      "_________________________________________________________________\n",
      "dense_1 (Dense)              (None, 128)               589952    \n",
      "_________________________________________________________________\n",
      "dense_2 (Dense)              (None, 10)                1290      \n",
      "=================================================================\n",
      "Total params: 592,074\n",
      "Trainable params: 592,074\n",
      "Non-trainable params: 0\n",
      "_________________________________________________________________\n"
     ]
    }
   ],
   "source": [
    "# build the model\n",
    "model = baseline_model()\n",
    "model.summary()"
   ]
  },
  {
   "cell_type": "markdown",
   "metadata": {},
   "source": [
    "Observe que esta rede, apesar de ter mais camadas e ser evidentemente mais complexa em termos de arquitetura, tem menos componentes."
   ]
  },
  {
   "cell_type": "code",
   "execution_count": null,
   "metadata": {},
   "outputs": [],
   "source": [
    "# Fitando o modelo\n",
    "model.fit(X_train, y_train, validation_data=(X_test, y_test), epochs=20, batch_size=200, verbose=1)\n",
    "# Avaliação final do modelo\n",
    "scores = model.evaluate(X_test, y_test, verbose=0)\n",
    "print(\"CNN Error: %.2f%%\" % (100-scores[1]*100))"
   ]
  },
  {
   "cell_type": "markdown",
   "metadata": {},
   "source": [
    "## Esta avaliação de erro faz sentido? Usamos a melhor versão do nosso modelo? \n",
    "### Não! Contaminamos a análise usando os dados de teste como validação. \n",
    "### Talvez! 10 não é um número mágico! Talvez treinar mais resultasse em uma acurácia maior! "
   ]
  },
  {
   "cell_type": "markdown",
   "metadata": {},
   "source": [
    "## Para consertar isso, dividimos o set de treino em dois pedaços, um de treino e outro de validação:"
   ]
  },
  {
   "cell_type": "code",
   "execution_count": null,
   "metadata": {},
   "outputs": [],
   "source": [
    "from sklearn.model_selection import train_test_split"
   ]
  },
  {
   "cell_type": "code",
   "execution_count": null,
   "metadata": {},
   "outputs": [],
   "source": [
    "X_real_train,X_validation,Y_real_train,Y_validation = train_test_split(X_train,y_train, test_size = 0.2)"
   ]
  },
  {
   "cell_type": "code",
   "execution_count": null,
   "metadata": {},
   "outputs": [],
   "source": [
    "# estabelecemos então uma função de callback do keras chamada early stopping\n",
    "from keras.callbacks import EarlyStopping"
   ]
  },
  {
   "cell_type": "markdown",
   "metadata": {},
   "source": [
    "Com o early stopping, o modelo para de ser treinado a partir do momento que o erro de validação para de cair. Neste contexto, o parâmetro patience indica quantas etapas de treinamento consecutivas o erro de valicação deve ser não decrescente até que o modelo pare de treinar. Isso é importante para evitar que algum efeito de ruído aumente seu erro de validação em uma época de treinamento e você pare de treinar o seu modelo mais cedo do que o necessário por causa disso."
   ]
  },
  {
   "cell_type": "code",
   "execution_count": null,
   "metadata": {},
   "outputs": [],
   "source": [
    "callbacks = [EarlyStopping(monitor = 'val_loss', patience = 2)]"
   ]
  },
  {
   "cell_type": "code",
   "execution_count": null,
   "metadata": {},
   "outputs": [],
   "source": [
    "# Alteramos então a chamada do método fit:"
   ]
  },
  {
   "cell_type": "code",
   "execution_count": null,
   "metadata": {},
   "outputs": [],
   "source": [
    "model.fit(X_real_train, Y_real_train, validation_data=(X_validation,Y_validation), epochs=20, \n",
    "          batch_size=200, verbose=1, callbacks = callbacks)\n"
   ]
  },
  {
   "cell_type": "code",
   "execution_count": null,
   "metadata": {},
   "outputs": [],
   "source": [
    "scores = model.evaluate(X_test, y_test, verbose=0)\n",
    "print(\"CNN Error: %.2f%%\" % (100-scores[1]*100))"
   ]
  },
  {
   "cell_type": "markdown",
   "metadata": {},
   "source": [
    "Note que - com o early stopping, treinamos por menos etapas, mas obtivemos um modelo com performance melhor."
   ]
  },
  {
   "cell_type": "markdown",
   "metadata": {},
   "source": [
    "# Deep convolutional Neural Network"
   ]
  },
  {
   "cell_type": "markdown",
   "metadata": {},
   "source": [
    "Vamos agora fazer uma rede com duas camadas convolucionais! "
   ]
  },
  {
   "cell_type": "code",
   "execution_count": null,
   "metadata": {},
   "outputs": [],
   "source": [
    "# CNN maior\n",
    "import numpy\n",
    "from keras.datasets import mnist\n",
    "from keras.models import Sequential\n",
    "from keras.layers import Dense\n",
    "from keras.layers import Dropout\n",
    "from keras.layers import Flatten\n",
    "from keras.layers.convolutional import Conv2D\n",
    "from keras.layers.convolutional import MaxPooling2D\n",
    "from keras.utils import np_utils\n",
    "from keras import backend as K\n",
    "from sklearn.model_selection import train_test_split\n",
    "from keras.callbacks import EarlyStopping\n",
    "K.set_image_dim_ordering('th')\n",
    "# fixando a random seed:\n",
    "seed = 7\n",
    "numpy.random.seed(seed)\n",
    "# load data\n",
    "(X_train, y_train), (X_test, y_test) = mnist.load_data()\n",
    "# reshape to be [samples][pixels][width][height]\n",
    "X_train = X_train.reshape(X_train.shape[0], 1, 28, 28).astype('float32')\n",
    "X_test = X_test.reshape(X_test.shape[0], 1, 28, 28).astype('float32')\n",
    "# normalizando os inputs 0-255 to 0-1\n",
    "X_train = X_train / 255\n",
    "X_test = X_test / 255\n",
    "# one hot encode outputs\n",
    "y_train = np_utils.to_categorical(y_train)\n",
    "y_test = np_utils.to_categorical(y_test)\n",
    "num_classes = y_test.shape[1]\n",
    "# separando o treinamento entre treino e validação: \n",
    "X_real_train,X_validation,Y_real_train,Y_validation = train_test_split(X_train,y_train, test_size = 0.2)"
   ]
  },
  {
   "cell_type": "code",
   "execution_count": null,
   "metadata": {},
   "outputs": [],
   "source": [
    "# define the larger model\n",
    "def larger_model():\n",
    "    # create model\n",
    "    model = Sequential()\n",
    "    model.add(Conv2D(30, (5, 5), input_shape=(1, 28, 28), activation='relu'))\n",
    "    model.add(MaxPooling2D(pool_size=(2, 2)))\n",
    "    model.add(Conv2D(15, (3, 3), activation='relu'))\n",
    "    model.add(MaxPooling2D(pool_size=(2, 2)))\n",
    "    model.add(Dropout(0.2))\n",
    "    model.add(Flatten())\n",
    "    model.add(Dense(128, activation='relu'))\n",
    "    model.add(Dense(50, activation='relu'))\n",
    "    model.add(Dense(num_classes, activation='softmax'))\n",
    "    # Compile model\n",
    "    model.compile(loss='categorical_crossentropy', optimizer='adam', metrics=['accuracy'])\n",
    "    return model"
   ]
  },
  {
   "cell_type": "code",
   "execution_count": null,
   "metadata": {},
   "outputs": [],
   "source": [
    "# build the model\n",
    "model = larger_model()\n",
    "model.summary()"
   ]
  },
  {
   "cell_type": "markdown",
   "metadata": {},
   "source": [
    "Note a diferença brutal entre a quantidade de parâmetros da primeira rede que treinamos e essa. Uma redução de 10 vezes! Vamos ver se essa redução de parâmetros tém impacto negativo na perforamnce."
   ]
  },
  {
   "cell_type": "code",
   "execution_count": null,
   "metadata": {},
   "outputs": [],
   "source": [
    "callbacks = [EarlyStopping(monitor = 'val_loss', patience = 2)]\n",
    "# Fit the model\n",
    "model.fit(X_real_train, Y_real_train, validation_data=(X_validation,Y_validation), epochs=20, \n",
    "          batch_size=200, verbose=1, callbacks = callbacks)\n",
    "# Final evaluation of the model\n",
    "scores = model.evaluate(X_test, y_test, verbose=0)\n",
    "print(\"Large CNN Error: %.2f%%\" % (100-scores[1]*100))"
   ]
  },
  {
   "cell_type": "markdown",
   "metadata": {},
   "source": [
    "O modelo Melhorou ainda mais! \n",
    "Espero que este tutorial ajude na compreensão do uso da biblioteca do Keras para construção de redes neurais simples. Para mais informações, o site do próprio keras tem explicações e tutoriais bem detalhados sobre mais casos de uso! \n",
    "https://keras.io/"
   ]
  },
  {
   "cell_type": "markdown",
   "metadata": {},
   "source": [
    "# Divirtam-se! "
   ]
  },
  {
   "cell_type": "code",
   "execution_count": null,
   "metadata": {},
   "outputs": [],
   "source": []
  }
 ],
 "metadata": {
  "kernelspec": {
   "display_name": "Python 3",
   "language": "python",
   "name": "python3"
  },
  "language_info": {
   "codemirror_mode": {
    "name": "ipython",
    "version": 3
   },
   "file_extension": ".py",
   "mimetype": "text/x-python",
   "name": "python",
   "nbconvert_exporter": "python",
   "pygments_lexer": "ipython3",
   "version": "3.5.2"
  },
  "toc": {
   "nav_menu": {},
   "number_sections": true,
   "sideBar": true,
   "skip_h1_title": false,
   "title_cell": "Table of Contents",
   "title_sidebar": "Contents",
   "toc_cell": false,
   "toc_position": {},
   "toc_section_display": true,
   "toc_window_display": false
  }
 },
 "nbformat": 4,
 "nbformat_minor": 2
}
